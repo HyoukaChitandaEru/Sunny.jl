{
 "cells": [
  {
   "cell_type": "markdown",
   "source": [
    "# Fitting model parameters in a 1D spin-1 ferromagnetic chain"
   ],
   "metadata": {}
  },
  {
   "outputs": [],
   "cell_type": "code",
   "source": [
    "using Sunny, LinearAlgebra, WGLMakie, Optim"
   ],
   "metadata": {},
   "execution_count": null
  },
  {
   "cell_type": "markdown",
   "source": [
    "In this Example, we consider a 1D chain of spin-1 sites.\n",
    "The sites along the chain interact via a ferromagnetic nearest-neighbor\n",
    "interaction $J\\sum_{\\langle i,j\\rangle} \\mathbf{S}_i \\cdot \\mathbf{S}_j$, with $J < 0$.\n",
    "By default, the ground state would be ferromagnetic and highly degenerate, since the spins\n",
    "can align in any direction.\n",
    "An on-site interaction, $D\\sum_i (S^z_i)^2$ breaks this isotropy by making it easier for\n",
    "the spins to align in the $\\pm z$ direction than in any other orientation.\n",
    "Thus, the entire Hamiltonian is:\n",
    "\n",
    "$\\mathcal{H} = \\overbrace{J\\sum_{\\langle i,j\\rangle} \\mathbf{S}_i \\cdot \\mathbf{S}_j}^{\\text{Ferromagnetic}}\\;\\;\\;\\;\\;\\; \\overbrace{-D\\sum_i (S^z_i)^2}^{\\text{Easy-axis single-ion anisotropy}}$\n",
    "\n",
    "The goal of this Example is to illustrate how to determine the parameters $J$ and $D$\n",
    "from \"experiment\" data by fitting using Sunny's implementation of Linear Spin Wave Theory.\n",
    "In our case, the \"experiment\" data will actually be simulation data produced\n",
    "using Landau-Lifschitz dynamics."
   ],
   "metadata": {}
  },
  {
   "cell_type": "markdown",
   "source": [
    "## Creating simulated \"experiment\" data using Landau-Lifschitz dynamics"
   ],
   "metadata": {}
  },
  {
   "cell_type": "markdown",
   "source": [
    "Our simulated data will use ground truth values $J_0 = -1\\,\\text{meV}$ and $D_0 = 10\\,\\text{meV}$ with a lattice spacing $a = 10$ angstrom."
   ],
   "metadata": {}
  },
  {
   "cell_type": "markdown",
   "source": [
    "We begin with a 1D chain of spin-1 sites along the $x$ direction."
   ],
   "metadata": {}
  },
  {
   "outputs": [],
   "cell_type": "code",
   "source": [
    "# Establish geometry of the unit cell.\n",
    "# \"P1\" is required due to the rotational symmetry about the\n",
    "# x-axis being broken.\n",
    "chain_spacing = 10. # Angstrom\n",
    "latvecs = chain_spacing * I(3)\n",
    "one_dimensional_chain = Crystal(latvecs,[[0,0,0]],\"P1\")\n",
    "\n",
    "# Establish geometry of the whole chain.\n",
    "chain_length = 16 # Number of atoms\n",
    "latsize = (chain_length,1,1) # 1D chain is Nx1x1 lattice\n",
    "spin_one_chain = System(one_dimensional_chain, latsize, [SpinInfo(1,S=1,g=2)], :SUN)"
   ],
   "metadata": {},
   "execution_count": null
  },
  {
   "cell_type": "markdown",
   "source": [
    "Configure the nearest-neighbor interaction:"
   ],
   "metadata": {}
  },
  {
   "outputs": [],
   "cell_type": "code",
   "source": [
    "# Scalar J indicates J*(Sᵢ⋅Sⱼ)\n",
    "J_groundtruth = -1.\n",
    "\n",
    "# Interaction is with the left and right next neighbor along the chain (x-direction)\n",
    "nearest_neighbor_right = Bond(1,1,(1,0,0))\n",
    "nearest_neighbor_left = Bond(1,1,(-1,0,0))\n",
    "\n",
    "set_exchange!(spin_one_chain,J_groundtruth,nearest_neighbor_right)\n",
    "set_exchange!(spin_one_chain,J_groundtruth,nearest_neighbor_left)"
   ],
   "metadata": {},
   "execution_count": null
  },
  {
   "cell_type": "markdown",
   "source": [
    "Configure the symmetry-breaking easy-axis term:"
   ],
   "metadata": {}
  },
  {
   "outputs": [],
   "cell_type": "code",
   "source": [
    "D_groundtruth = 10.\n",
    "Sz = spin_operators(spin_one_chain, 1)[3]\n",
    "set_onsite_coupling!(spin_one_chain, -D_groundtruth*Sz^2, 1)"
   ],
   "metadata": {},
   "execution_count": null
  },
  {
   "cell_type": "markdown",
   "source": [
    "With the ground-truth hamiltonian in place, we use Sunny's classical dynamics\n",
    "to generate ficticious experiment data at temperature `kT = 0.1`."
   ],
   "metadata": {}
  },
  {
   "outputs": [],
   "cell_type": "code",
   "source": [
    "Δt = 0.05/D_groundtruth\n",
    "λ = 0.1\n",
    "kT = 0.1\n",
    "langevin = Langevin(Δt; kT, λ);\n",
    "\n",
    "function viz_chain(sys;kwargs...)#hide\n",
    "  ##ups = map(x -> abs2(x[1]), sys.coherents)[:];#hide\n",
    "  ##zs = map(x -> abs2(x[2]), sys.coherents)[:];#hide\n",
    "  ##downs = map(x -> abs2(x[3]), sys.coherents)[:];#hide\n",
    "###hide\n",
    "  ##f = Figure()#hide\n",
    "  ##ax = LScene(f[1,1];show_axis = false)#hide\n",
    "  ##_ = Makie.cam3d!(ax.scene, projectiontype=Makie.Orthographic)#hide\n",
    "###hide\n",
    "  ##linewidth = 5.#hide\n",
    "  ##arrowsize = 10.#hide\n",
    "  ##lengthscale = 15.#hide\n",
    "  ##pts = [Point3f(Sunny.global_position(sys,site)) for site in eachsite(sys)][:]#hide\n",
    "###hide\n",
    "  #### Ups#hide\n",
    "  ##vecs = [Vec3f([0,0,1]) for site in eachsite(sys)][:]#hide\n",
    "  ##cols = map(x -> (:blue,x), ups)#hide\n",
    "  ##Makie.arrows!(ax, pts .+ 0.5 .* vecs, vecs;#hide\n",
    "        ##linecolor = cols, arrowcolor = cols,#hide\n",
    "        ##lengthscale, arrowsize, linewidth, kwargs...)#hide\n",
    "###hide\n",
    "  #### Downs#hide\n",
    "  ##vecs = [Vec3f([0,0,-1]) for site in eachsite(sys)][:]#hide\n",
    "  ##cols = map(x -> (:red,x), downs)#hide\n",
    "  ##Makie.arrows!(ax, pts .+ 0.5 .* vecs, vecs;#hide\n",
    "        ##linecolor = cols, arrowcolor = cols,#hide\n",
    "        ##lengthscale, arrowsize, linewidth, kwargs...)#hide\n",
    "###hide\n",
    "  ##cols = map(x -> (:green,x), zs)#hide\n",
    "  ##meshscatter!(ax,pts, markersize = 7., color = cols)#hide\n",
    "  ##f#hide\n",
    "  Sunny.Plotting.plot_coherents(sys;quantization_axis = [0,0,1],kwargs...)\n",
    "end#hide\n",
    "randomize_spins!(spin_one_chain)\n",
    "viz_chain(spin_one_chain)"
   ],
   "metadata": {},
   "execution_count": null
  },
  {
   "cell_type": "markdown",
   "source": [
    "In this plot, the z-axis has been used as the quantization axis for each site,\n",
    "with the up/down arrows and circle representing the $\\pm \\hbar$ and $0\\hbar$ spin projections\n",
    "onto the z-axis respectively. The opacity of each object represents the probability (absolute value\n",
    "squared), and the color represents the phase.\n",
    "Since we are using classical dynamics to simulate the data, the phase will be mostly random.\n",
    "\n",
    "First, we thermalize the chain, and then take several samples\n",
    "in order get reasonably good \"experiment\" data."
   ],
   "metadata": {}
  },
  {
   "outputs": [],
   "cell_type": "code",
   "source": [
    "nStep = 50_000#hide\n",
    "for _ in 1:nStep#hide\n",
    "    step!(spin_one_chain, langevin)#hide\n",
    "end#hide\n",
    "# ... thermalize ...\n",
    "viz_chain(spin_one_chain)"
   ],
   "metadata": {},
   "execution_count": null
  },
  {
   "outputs": [],
   "cell_type": "code",
   "source": [
    "sc = dynamical_correlations(spin_one_chain; Δt, nω = 80, ωmax = 20.);#hide\n",
    "\n",
    "for _ in 1:10_000#hide\n",
    "    step!(spin_one_chain, langevin)#hide\n",
    "end#hide\n",
    "add_sample!(sc, spin_one_chain)#hide\n",
    "# ... some time later ...\n",
    "viz_chain(spin_one_chain)"
   ],
   "metadata": {},
   "execution_count": null
  },
  {
   "outputs": [],
   "cell_type": "code",
   "source": [
    "for _ in 1:10_000#hide\n",
    "    step!(spin_one_chain, langevin)#hide\n",
    "end#hide\n",
    "add_sample!(sc, spin_one_chain)#hide\n",
    "# ... some time later ...\n",
    "viz_chain(spin_one_chain)"
   ],
   "metadata": {},
   "execution_count": null
  },
  {
   "outputs": [],
   "cell_type": "code",
   "source": [
    "for _ in 1:20#hide\n",
    "    for _ in 1:10_000#hide\n",
    "        step!(spin_one_chain, langevin)#hide\n",
    "    end#hide\n",
    "    add_sample!(sc, spin_one_chain)#hide\n",
    "end#hide\n",
    "# ... some time later ...\n",
    "viz_chain(spin_one_chain)"
   ],
   "metadata": {},
   "execution_count": null
  },
  {
   "cell_type": "markdown",
   "source": [
    "Now that we have collected several samples,"
   ],
   "metadata": {}
  },
  {
   "outputs": [],
   "cell_type": "code",
   "source": [
    "sc"
   ],
   "metadata": {},
   "execution_count": null
  },
  {
   "cell_type": "markdown",
   "source": [
    "we are ready to generate the intensity data.\n",
    "Since this is supposed to represent an experiment, the intensity data will go in a histogram:"
   ],
   "metadata": {}
  },
  {
   "outputs": [],
   "cell_type": "code",
   "source": [
    "SIMULATED_EXPERIMENT_HISTOGRAM_PARAMS = unit_resolution_binning_parameters(sc)"
   ],
   "metadata": {},
   "execution_count": null
  },
  {
   "cell_type": "markdown",
   "source": [
    "Here's what the experiment data looks like:"
   ],
   "metadata": {}
  },
  {
   "outputs": [],
   "cell_type": "code",
   "source": [
    "formula = intensity_formula(sc,:perp;kT)\n",
    "is, counts = intensities_binned(sc,SIMULATED_EXPERIMENT_HISTOGRAM_PARAMS,formula)\n",
    "\n",
    "SIMULATED_EXPERIMENT_DATA = (is ./ counts)[:,1,1,:]\n",
    "\n",
    "bcs = axes_bincenters(SIMULATED_EXPERIMENT_HISTOGRAM_PARAMS)\n",
    "f = Figure()#hide\n",
    "ax = Axis(f[1,1])#hide\n",
    "heatmap!(ax,bcs[1],bcs[4],log10.(SIMULATED_EXPERIMENT_DATA))\n",
    "f#hide"
   ],
   "metadata": {},
   "execution_count": null
  },
  {
   "cell_type": "markdown",
   "source": [
    "## Fitting to the experiment data"
   ],
   "metadata": {}
  },
  {
   "cell_type": "markdown",
   "source": [
    "To fit this data, we first model the known aspects of the system in Sunny.\n",
    "The first steps are the same whether we are simulating a known system or modelling an\n",
    "unknown system:"
   ],
   "metadata": {}
  },
  {
   "outputs": [],
   "cell_type": "code",
   "source": [
    "# Same as before\n",
    "chain_spacing = 10. # Angstrom\n",
    "latvecs = chain_spacing * I(3)\n",
    "one_dimensional_chain = Crystal(latvecs,[[0,0,0]],\"P1\")\n",
    "chain_length = 16 # Number of atoms\n",
    "latsize = (chain_length,1,1) # 1D chain is Nx1x1 lattice\n",
    "spin_one_chain = System(one_dimensional_chain, latsize, [SpinInfo(1,S=1,g=2)], :SUN)"
   ],
   "metadata": {},
   "execution_count": null
  },
  {
   "cell_type": "markdown",
   "source": [
    "Originally, the next step would have been to configure the hamiltonian by\n",
    "specifying the $J$ and $D$ values. However, since these are unknowns,\n",
    "we will avoid using them as long as possible, and instead proceed to set up the\n",
    "bonds, spin operators, and `Langevin` integrator--none of which require the values:"
   ],
   "metadata": {}
  },
  {
   "outputs": [],
   "cell_type": "code",
   "source": [
    "Δt = 0.05\n",
    "λ = 0.1\n",
    "kT = 0. # LSWT uses zero temperature\n",
    "langevin = Langevin(Δt; kT, λ);\n",
    "\n",
    "nearest_neighbor_right = Bond(1,1,(1,0,0))\n",
    "nearest_neighbor_left = Bond(1,1,(-1,0,0))\n",
    "\n",
    "Sz = spin_operators(spin_one_chain, 1)[3]"
   ],
   "metadata": {},
   "execution_count": null
  },
  {
   "cell_type": "markdown",
   "source": [
    "After this setup work is done *once*, we create a function `forward_problem(J_trial,D_trial)`\n",
    "which will compute the Linear Spin Wave Theoretic spectrum at the trial values of the\n",
    "$J$ and $D$ fitting parameters.\n",
    "In other words, the part of the original calculation which depends on the fitting\n",
    "parameters gets wrapped into a function:"
   ],
   "metadata": {}
  },
  {
   "outputs": [],
   "cell_type": "code",
   "source": [
    "function forward_problem(J_trial, D_trial)\n",
    "\n",
    "  # Ensure there is no phase transition (or else LSWT will throw errors)\n",
    "  J_trial = min(J_trial,0)\n",
    "  D_trial = max(D_trial,0)\n",
    "\n",
    "  # Uses J_trial\n",
    "  set_exchange!(spin_one_chain,J_trial,nearest_neighbor_right)\n",
    "  set_exchange!(spin_one_chain,J_trial,nearest_neighbor_left)\n",
    "\n",
    "  # Uses D_trial\n",
    "  set_onsite_coupling!(spin_one_chain, -D_trial*Sz^2, 1)\n",
    "\n",
    "  # Perform spin wave calculation, continued below...\n",
    "# Note that `forward_problem` refers to variables defined outside\n",
    "# of the scope of the function. This allows us to reuse those variables in each call to\n",
    "# `forward_problem`, without reconstructing them each time. In general, the more that is known\n",
    "# about the system you are modelling, the later in the code `function forward_problem(...)` can be\n",
    "# inserted, and the more setup work can be re-used.\n",
    "#\n",
    "# !!! tip \"`forward_problem` is a closure\"\n",
    "#     In computer progrogramming parlance, `forward_problem` is said to 'capture' variables such\n",
    "#     as `spin_one_chain` from the enviroment. Since the result of calling `forward_problem` depends\n",
    "#     not only on `J_trial` and `D_trial`, but also on `spin_one_chain`, it's no longer a function\n",
    "#     of only its arguments.\n",
    "#\n",
    "#     Since `forward_problem` is not a closed system, but\n",
    "#     `forward_problem + (captured variables)` _is_ a closed system, the latter is called\n",
    "#     the 'closure' of the former.\n",
    "# ## Spin wave calculation\n",
    "# We can leverage our knowledge that the ground state should be ferromagnetic\n",
    "# to simplify the spin wave calculation. Since the ferrommagnetic unit cell is just one site,\n",
    "# the simplified system is extremely simple:\n",
    "  # ... perform spin wave calculation, continued from above.\n",
    "  one_site_system = reshape_supercell(spin_one_chain,[1 0 0; 0 1 0; 0 0 1])\n",
    "# After restricting to a single site, it's best to re-thermalize the system\n",
    "# at zero temperature to ensure a good classical ground state for LSWT:\n",
    "  langevin.kT = 0.\n",
    "  nStep = 1_000\n",
    "  for _ in 1:nStep\n",
    "      step!(one_site_system, langevin)\n",
    "  end\n",
    "# The spin wave intensity data must be placed in a histogram with the same parameters\n",
    "# as the experiment data, in order to ensure a good comparision.\n",
    "#\n",
    "# The kernel and `intensities_bin_centers` used here are temporary, until a better\n",
    "# binning method is written.\n",
    "  swt = SpinWaveTheory(one_site_system)\n",
    "  formula = intensity_formula(swt,:perp; kernel = lorentzian(0.5))\n",
    "  params = SIMULATED_EXPERIMENT_HISTOGRAM_PARAMS\n",
    "  is_swt = Sunny.intensities_bin_centers(swt, params, formula)\n",
    "\n",
    "  return is_swt[:,1,1,:]\n",
    "end # end of forward_problem"
   ],
   "metadata": {},
   "execution_count": null
  },
  {
   "cell_type": "markdown",
   "source": [
    "We can see the different possible results from LSWT by plotting the dispersion:"
   ],
   "metadata": {}
  },
  {
   "outputs": [],
   "cell_type": "code",
   "source": [
    "function plot_forward(J,D)\n",
    "  is_swt = forward_problem(J,D)\n",
    "  bcs = axes_bincenters(SIMULATED_EXPERIMENT_HISTOGRAM_PARAMS)\n",
    "  heatmap(bcs[1],bcs[4],log10.(is_swt))\n",
    "end\n",
    "\n",
    "plot_forward(-1,10)"
   ],
   "metadata": {},
   "execution_count": null
  },
  {
   "outputs": [],
   "cell_type": "code",
   "source": [
    "plot_forward(-6,2)"
   ],
   "metadata": {},
   "execution_count": null
  },
  {
   "outputs": [],
   "cell_type": "code",
   "source": [
    "plot_forward(-0.01,15)"
   ],
   "metadata": {},
   "execution_count": null
  },
  {
   "cell_type": "markdown",
   "source": [
    "Now, we can easily define a least-squares loss function comparing the \"experiment\" data to the LSWT result:"
   ],
   "metadata": {}
  },
  {
   "outputs": [],
   "cell_type": "code",
   "source": [
    "function get_loss(parameters)\n",
    "  J,D = parameters\n",
    "  is_swt = forward_problem(J,D)\n",
    "  sqrt(sum(abs2.(SIMULATED_EXPERIMENT_DATA .- is_swt)))\n",
    "end"
   ],
   "metadata": {},
   "execution_count": null
  },
  {
   "cell_type": "markdown",
   "source": [
    "Sweeping the parameters over a range containing the true value reveals\n",
    "that the loss is minimized near the true parameters (dot).\n",
    "The minimum loss is not exactly at the ground truth parameters in this case.\n",
    "Gradient descent (finite-differenced) can be used to find the actual minimizer:"
   ],
   "metadata": {}
  },
  {
   "outputs": [],
   "cell_type": "code",
   "source": [
    "nJ = 30\n",
    "nD = 35\n",
    "loss_landscape = zeros(Float64,nJ,nD)\n",
    "Js = range(-2,0,length=nJ)\n",
    "Ds = range(8,12,length=nD)\n",
    "for (ij,J) in enumerate(Js)\n",
    "  for (id,D) in enumerate(Ds)\n",
    "    loss_landscape[ij,id] = get_loss([J,D])\n",
    "  end\n",
    "end\n",
    "\n",
    "fig = Figure()\n",
    "ax = Axis(fig[1,1],xlabel = \"J [meV]\", ylabel = \"D [meV]\")\n",
    "contourf!(ax,Js,Ds,loss_landscape)\n",
    "\n",
    "x0 = [-2,9.5]\n",
    "opt_result = optimize(get_loss,x0,method=GradientDescent(alphaguess=1e-3),store_trace=true,extended_trace = true,time_limit=10.)\n",
    "lines!(ax,Point2f.(Optim.x_trace(opt_result)))\n",
    "scatter!(ax,-1,10)\n",
    "fig"
   ],
   "metadata": {},
   "execution_count": null
  },
  {
   "cell_type": "markdown",
   "source": [
    "The fit can be verified by plotting the LSWT band structure over top of the experiment data:"
   ],
   "metadata": {}
  },
  {
   "outputs": [],
   "cell_type": "code",
   "source": [
    "bcs = axes_bincenters(SIMULATED_EXPERIMENT_HISTOGRAM_PARAMS)\n",
    "f = Figure()#hide\n",
    "ax = Axis(f[1,1]; xlabel=\"Q [R.L.U.]\", ylabel=\"Energy (meV)\")#hide\n",
    "heatmap!(ax,bcs[1],bcs[4],log10.(SIMULATED_EXPERIMENT_DATA), colormap = :deepsea)\n",
    "f#hide\n",
    "\n",
    "\n",
    "J_trial, D_trial = opt_result.minimizer\n",
    "set_exchange!(spin_one_chain,J_trial,nearest_neighbor_right)#hide\n",
    "set_exchange!(spin_one_chain,J_trial,nearest_neighbor_left)#hide\n",
    "\n",
    "set_onsite_coupling!(spin_one_chain, -D_trial*Sz^2, 1)#hide\n",
    "one_site_system = reshape_supercell(spin_one_chain,[1 0 0; 0 1 0; 0 0 1])#hide\n",
    "\n",
    "langevin.kT = 0.#hide\n",
    "nStep = 1_000#hide\n",
    "for _ in 1:nStep#hide\n",
    "    step!(one_site_system, langevin)#hide\n",
    "end#hide\n",
    "\n",
    "swt = SpinWaveTheory(one_site_system)#hide\n",
    "params = SIMULATED_EXPERIMENT_HISTOGRAM_PARAMS\n",
    "\n",
    "path = [[q,0,0] for q in bcs[1]]\n",
    "disp, intensity = intensities_bands(swt, path, intensity_formula(swt,:perp, kernel = delta_function_kernel))\n",
    "\n",
    "for i in axes(disp)[2]\n",
    "    lines!(ax, bcs[1], disp[:,i]; color=intensity[:,i], colormap = :turbo,linewidth = 5,colorrange = (0.,1.))\n",
    "end\n",
    "Colorbar(f[1,2],colormap = :turbo, limits = (0.,1.))\n",
    "Colorbar(f[1,3],colormap = :deepsea, limits = (0.,1.))\n",
    "f"
   ],
   "metadata": {},
   "execution_count": null
  }
 ],
 "nbformat_minor": 3,
 "metadata": {
  "language_info": {
   "file_extension": ".jl",
   "mimetype": "application/julia",
   "name": "julia",
   "version": "1.9.3"
  },
  "kernelspec": {
   "name": "julia-1.9",
   "display_name": "Julia 1.9.3",
   "language": "julia"
  }
 },
 "nbformat": 4
}
