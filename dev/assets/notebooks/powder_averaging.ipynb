{
 "cells": [
  {
   "cell_type": "markdown",
   "source": [
    "# Powder averaged CoRh$_2$O$_4$\n",
    "\n",
    "This tutorial illustrates the calculation of the powder-averaged structure\n",
    "factor by performing an orientational average. We consider a simple model of\n",
    "the diamond-cubic crystal CoRh$_2$O$_4$, with parameters extracted from [Ge et\n",
    "al., Phys. Rev. B 96, 064413](https://doi.org/10.1103/PhysRevB.96.064413)."
   ],
   "metadata": {}
  },
  {
   "outputs": [],
   "cell_type": "code",
   "source": [
    "using Sunny, WGLMakie"
   ],
   "metadata": {},
   "execution_count": null
  },
  {
   "cell_type": "markdown",
   "source": [
    "Construct a diamond `Crystal` in the conventional (non-primitive)\n",
    "cubic unit cell. Sunny will populate all eight symmetry-equivalent sites when\n",
    "given the international spacegroup number 227 (\"Fd-3m\") and the appropriate\n",
    "setting. For this spacegroup, there are two conventional translations of the\n",
    "unit cell, and it is necessary to disambiguate through the `setting` keyword\n",
    "argument. (On your own: what happens if `setting` is omitted?)"
   ],
   "metadata": {}
  },
  {
   "outputs": [],
   "cell_type": "code",
   "source": [
    "a = 8.5031 # (Å)\n",
    "latvecs = lattice_vectors(a, a, a, 90, 90, 90)\n",
    "cryst = Crystal(latvecs, [[0,0,0]], 227, setting=\"1\")"
   ],
   "metadata": {},
   "execution_count": null
  },
  {
   "cell_type": "markdown",
   "source": [
    "In a running Julia environment, the crystal can be viewed interactively using\n",
    "`view_crystal`."
   ],
   "metadata": {}
  },
  {
   "outputs": [],
   "cell_type": "code",
   "source": [
    "view_crystal(cryst, 8.0)"
   ],
   "metadata": {},
   "execution_count": null
  },
  {
   "cell_type": "markdown",
   "source": [
    "Construct a `System` with an antiferromagnetic nearest neighbor\n",
    "interaction `J`. Because the diamond crystal is bipartite, the ground state\n",
    "will have unfrustrated Néel order. Selecting `latsize=(1,1,1)` is sufficient\n",
    "because the ground state is periodic over each cubic unit cell. By passing an\n",
    "explicit `seed`, the system's random number generator will give repeatable\n",
    "results."
   ],
   "metadata": {}
  },
  {
   "outputs": [],
   "cell_type": "code",
   "source": [
    "latsize = (1,1,1)\n",
    "seed = 0\n",
    "S = 3/2\n",
    "J = 7.5413*meV_per_K # (~ 0.65 meV)\n",
    "sys = System(cryst, latsize, [SpinInfo(1; S, g=2)], :dipole; seed=0)\n",
    "set_exchange!(sys, J, Bond(1, 3, [0,0,0]))"
   ],
   "metadata": {},
   "execution_count": null
  },
  {
   "cell_type": "markdown",
   "source": [
    "The ground state is non-frustrated. Each spin should be exactly anti-aligned\n",
    "with its 4 nearest-neighbors, such that every bond contributes an energy of\n",
    "$-JS^2$. This gives an energy per site of $-2JS^2$. In this calculation, a\n",
    "factor of 1/2 is necessary to avoid double-counting the bonds. Given the small\n",
    "magnetic supercell (which includes only one unit cell), direct energy\n",
    "minimization is successful in finding the ground state."
   ],
   "metadata": {}
  },
  {
   "outputs": [],
   "cell_type": "code",
   "source": [
    "randomize_spins!(sys)\n",
    "minimize_energy!(sys)\n",
    "\n",
    "energy_per_site = energy(sys) / length(eachsite(sys))\n",
    "@assert energy_per_site ≈ -2J*S^2"
   ],
   "metadata": {},
   "execution_count": null
  },
  {
   "cell_type": "markdown",
   "source": [
    "Plotting the spins confirms the expected Néel order. Note that the overall,\n",
    "global rotation of dipoles is arbitrary."
   ],
   "metadata": {}
  },
  {
   "outputs": [],
   "cell_type": "code",
   "source": [
    "plot_spins(sys; ghost_radius=12)"
   ],
   "metadata": {},
   "execution_count": null
  },
  {
   "cell_type": "markdown",
   "source": [
    "We can now estimate $𝒮(𝐪,ω)$ with `SpinWaveTheory` and\n",
    "`intensity_formula`. The mode `:perp` contracts with a dipole factor\n",
    "to return the unpolarized intensity. We will also apply broadening with the\n",
    "`lorentzian` kernel, and will dampen intensities using the\n",
    "`FormFactor` for Cobalt(2+)."
   ],
   "metadata": {}
  },
  {
   "outputs": [],
   "cell_type": "code",
   "source": [
    "swt = SpinWaveTheory(sys)\n",
    "η = 0.4 # (meV)\n",
    "kernel = lorentzian(η)\n",
    "formfactors = [FormFactor(\"Co2\")]\n",
    "formula = intensity_formula(swt, :perp; kernel, formfactors)"
   ],
   "metadata": {},
   "execution_count": null
  },
  {
   "cell_type": "markdown",
   "source": [
    "First, we consider the \"single crystal\" results. Use\n",
    "`reciprocal_space_path` to construct a path that connects\n",
    "high-symmetry points in reciprocal space. The `intensities_broadened`\n",
    "function collects intensities along this path for the given set of energy\n",
    "values."
   ],
   "metadata": {}
  },
  {
   "outputs": [],
   "cell_type": "code",
   "source": [
    "qpoints = [[0.0, 0.0, 0.0], [0.5, 0.0, 0.0], [0.5, 0.5, 0.0], [0.0, 0.0, 0.0]]\n",
    "path, xticks = reciprocal_space_path(cryst, qpoints, 50)\n",
    "energies = collect(0:0.01:6)\n",
    "is = intensities_broadened(swt, path, energies, formula)\n",
    "\n",
    "fig = Figure()\n",
    "ax = Axis(fig[1,1]; aspect=1.4, ylabel=\"ω (meV)\", xlabel=\"𝐪 (RLU)\",\n",
    "          xticks, xticklabelrotation=π/10)\n",
    "heatmap!(ax, 1:size(is, 1), energies, is, colormap=:gnuplot2)\n",
    "fig"
   ],
   "metadata": {},
   "execution_count": null
  },
  {
   "cell_type": "markdown",
   "source": [
    "A powder measurement effectively involves an average over all possible crystal\n",
    "orientations. We use the function `reciprocal_space_shell` to sample\n",
    "`n` wavevectors on a sphere of a given radius (inverse angstroms), and then\n",
    "calculate the spherically-averaged intensity."
   ],
   "metadata": {}
  },
  {
   "outputs": [],
   "cell_type": "code",
   "source": [
    "radii = 0.01:0.02:3 # (1/Å)\n",
    "output = zeros(Float64, length(radii), length(energies))\n",
    "for (i, radius) in enumerate(radii)\n",
    "    n = 300\n",
    "    qs = reciprocal_space_shell(cryst, radius, n)\n",
    "    is = intensities_broadened(swt, qs, energies, formula)\n",
    "    output[i, :] = sum(is, dims=1) / size(is, 1)\n",
    "end\n",
    "\n",
    "fig = Figure()\n",
    "ax = Axis(fig[1,1]; xlabel=\"|Q| (Å⁻¹)\", ylabel=\"ω (meV)\")\n",
    "heatmap!(ax, radii, energies, output, colormap=:gnuplot2)\n",
    "fig"
   ],
   "metadata": {},
   "execution_count": null
  },
  {
   "cell_type": "markdown",
   "source": [
    "This result can be compared to experimental neutron scattering data\n",
    "from Fig. 5 of [Ge et al.](https://doi.org/10.1103/PhysRevB.96.064413)\n",
    "\n",
    "<img width=\"95%\" src=\"https://raw.githubusercontent.com/SunnySuite/Sunny.jl/main/docs/src/assets/CoRh2O4_intensity.jpg\">"
   ],
   "metadata": {}
  }
 ],
 "nbformat_minor": 3,
 "metadata": {
  "language_info": {
   "file_extension": ".jl",
   "mimetype": "application/julia",
   "name": "julia",
   "version": "1.9.3"
  },
  "kernelspec": {
   "name": "julia-1.9",
   "display_name": "Julia 1.9.3",
   "language": "julia"
  }
 },
 "nbformat": 4
}
